{
  "cells": [
    {
      "cell_type": "raw",
      "metadata": {},
      "source": [
        "---\n",
        "title: 'Lab 4: House Elevation NPV Analysis'\n",
        "author: Leanh Nguyen\n",
        "date: '2024-02-08'\n",
        "week: 5\n",
        "categories:\n",
        "  - Lab\n",
        "format:\n",
        "  html: default\n",
        "  docx:\n",
        "    toc: true\n",
        "    fig-format: png\n",
        "    number-sections: true\n",
        "    code-line-numbers: true\n",
        "execute:\n",
        "  cache: true\n",
        "  freeze: true\n",
        "date-format: 'ddd., MMM. D'\n",
        "bibliography: references.bib\n",
        "---"
      ],
      "id": "ee29a9a2"
    },
    {
      "cell_type": "code",
      "metadata": {},
      "source": [
        "#| output: false\n",
        "using CSV\n",
        "using DataFrames\n",
        "using DataFramesMeta\n",
        "using Distributions\n",
        "using Interpolations\n",
        "using Plots\n",
        "using StatsPlots\n",
        "using Unitful\n",
        "\n",
        "Plots.default(; margin=6Plots.mm)\n",
        "\n",
        "include(\"depthdamage.jl\")"
      ],
      "id": "55bfa511",
      "execution_count": null,
      "outputs": []
    },
    {
      "cell_type": "markdown",
      "metadata": {},
      "source": [
        "# Single Year Function\n",
        "First, we're going to write a function that tells us our costs and benefits in a single year.\n",
        "The information we'll need for that year is:\n",
        "\n",
        "- The distribution of flooding at the house\n",
        "- The depth-damage function (as in percentage terms)\n",
        "- The cost of elevating the house (and the house area)\n",
        "- The house value\n",
        "- How high we elevated the house **in that year**.\n",
        "\n",
        "## Depth-damage function\n",
        "\n",
        "In the previous lab, we used existing data to build a depth-data function.\n",
        "Remember that the depth here is relative to the house, not to the gauge.\n"
      ],
      "id": "ea4b763e"
    },
    {
      "cell_type": "code",
      "metadata": {},
      "source": [
        "haz_fl_dept = CSV.read(\"data/haz_fl_dept.csv\", DataFrame) # read in the file\n",
        "desc = \"Gift Shop, structure\" \n",
        "Source = \"USACE - Galveston\"\n",
        "row = @rsubset(haz_fl_dept, :Description == desc)[1, :] # select the row I want\n",
        "dd = DepthDamageData(row) # extract the depth-damage data\n",
        "damage_fn = get_depth_damage_function(dd.depths, dd.damages) # get the depth-damage function"
      ],
      "id": "d0d010d4",
      "execution_count": null,
      "outputs": []
    },
    {
      "cell_type": "markdown",
      "metadata": {},
      "source": [
        "We can plot this as before\n"
      ],
      "id": "82d89adb"
    },
    {
      "cell_type": "code",
      "metadata": {},
      "source": [
        "#| code-fold: true\n",
        "p = let\n",
        "    depths = uconvert.(u\"ft\", (-7.0u\"ft\"):(1.0u\"inch\"):(30.0u\"ft\"))\n",
        "    damages = damage_fn.(depths)\n",
        "    scatter(\n",
        "        depths,\n",
        "        damages;\n",
        "        xlabel=\"Flood Depth\",\n",
        "        ylabel=\"Damage (%)\",\n",
        "        label=\"$(dd.description) ($(dd.source))\",\n",
        "        legend=:bottomright,\n",
        "        size=(800, 400),\n",
        "        linewidth=2,\n",
        "    )\n",
        "end\n",
        "p"
      ],
      "id": "d3cd86b0",
      "execution_count": null,
      "outputs": []
    },
    {
      "cell_type": "markdown",
      "metadata": {},
      "source": [
        "## Annual expected flood damages\n"
      ],
      "id": "2d534c67"
    },
    {
      "cell_type": "code",
      "metadata": {},
      "source": [
        "#| output: false\n",
        "    elevation_cost = get_elevation_cost_function() # gives us a fitted interpolator # <7>"
      ],
      "id": "0e1767b9",
      "execution_count": null,
      "outputs": []
    },
    {
      "cell_type": "code",
      "metadata": {},
      "source": [
        "function single_year_cost_benefit(flood_dist, damage_fn, elevation_cost, house_area, house_value, Δh)\n",
        "    \n",
        "    # calculate the expected damages\n",
        "        house_dist = flood_dist\n",
        "        samples = rand(house_dist, 100_000) .* 1u\"ft\" # <1>\n",
        "        damages = damage_fn.(samples) # <2>\n",
        "        expected_damages_pct = mean(damages) # <3>\n",
        "        expected_damages_usd = house_value * expected_damages_pct / 100\n",
        "        c_dmg = expected_damages_usd # <5>\n",
        "\n",
        "    # calculate the cost of elevating # <6>\n",
        "        #| code-fold: true\n",
        "        c_constr = elevation_cost(Δh, house_area) \n",
        "\n",
        "    # return the total cost and benefit\n",
        "    return -c_constr - c_dmg\n",
        "end"
      ],
      "id": "dfff2859",
      "execution_count": null,
      "outputs": []
    },
    {
      "cell_type": "code",
      "metadata": {},
      "source": [
        "#| code-fold: true\n",
        "heights = uconvert.(u\"ft\", (0u\"ft\"):(1u\"inch\"):(10u\"ft\")) # some heights we will consider\n",
        "plot(\n",
        "    heights,\n",
        "    elevation_cost.(heights, house_area);\n",
        "    xlabel=\"How High to Elevate\",\n",
        "    ylabel=\"Cost (USD)\",\n",
        "    label=\"$(house_area)\",\n",
        "    tiitle=\"Cost of Elevating a House\",\n",
        ")"
      ],
      "id": "f6fcffd0",
      "execution_count": null,
      "outputs": []
    },
    {
      "cell_type": "markdown",
      "metadata": {},
      "source": [
        "1. Draw 100,000 samples from the distribution of flood heights at the house and add units of feet.\n",
        "2. Calculate the damages for each sample using our function.\n",
        "3. Calculate the expected damages as the mean of the damages. This is the Monte Carlo strategy $\\int p(x) f(x) dx \\approx \\frac{1}{N} \\sum_{i=1}^N f(x)$ which requires $x_i \\sim p(x)$.\n",
        "4. From Google Earth, I calculated/estimated my target structure's area (795 sq ft). Then, I found a structure near my target structure on zillow that had a similar area (750 sq ft). Thus, I decided to use this as the house structure value. https://www.zillow.com/homedetails/101-21st-St-STE-214-Galveston-TX-77550/2132158257_zpid/ \n",
        "5. We can treat this as the expected cost of flooding for this model.\n",
        "6. Next, we have the cost of elevating. We'll use equations I've used before [@zarekarizi_suboptimal:2020, @doss-gollin_subjective:2022]. Essentially, we have a piecewise linear function that depends on the area of the house and how height we elevate.\n",
        "7. To get the cost function, we use the `get_elevation_cost_function()` function, which is defined in the `depthdamage.jl` file. This function fits an interpolator to the data, which we want because we don't want to have to re-fit the interpolator every time we want to calculate the cost of elevating the house.\n",
        "8. We can visualize this function as follows\n",
        "\n",
        "# NPV Function\n",
        "\n",
        "Next, we need to write a function that calculates the NPV over a $T$ year design window.\n",
        "This function will take in all the information needed for the `single_year_cost_benefit` function, as well as the number of years `T` and the discount rate.\n",
        "Then, it will call the `single_year_cost_benefit` function for each year, and discount the costs and benefits to the present.\n",
        "Be sure to set $\\Delta h$ to zero feet (you'll get an error without units) for every year after the first!\n"
      ],
      "id": "aa43c1db"
    },
    {
      "cell_type": "code",
      "metadata": {},
      "source": [
        "function npv_cost_benefit(flood_dist, damage_fn, elevation_cost, house_area, house_value, Δh, T, discount_rate)\n",
        "    # calculate the costs and benefits for each year, and then discount\n",
        "    # see above!\n",
        "    npv = 0\n",
        "    for i in 1:T\n",
        "        if i == 1\n",
        "            expected_damages_usd = single_year_cost_benefit(flood_dist, damage_fn, elevation_cost, house_area, house_value, Δh)\n",
        "        else\n",
        "            expected_damages_usd = single_year_cost_benefit(flood_dist, damage_fn, elevation_cost, house_area, house_value, 0u\"ft\") # <1> \n",
        "        end\n",
        "        npv += expected_damages_usd * (1 / (1 + discount_rate)^i)\n",
        "    end\n",
        "    return npv\n",
        "end"
      ],
      "id": "d933f3b4",
      "execution_count": null,
      "outputs": []
    },
    {
      "cell_type": "markdown",
      "metadata": {},
      "source": [
        "1. Δh set to zero for subsequent years\n",
        "\n",
        "# One SOW, several actions\n",
        "\n",
        "First, let's calculate the NPV for a single state of the world and two actions.\n",
        "Now that you have the `npv_cost_benefit` function, this should be straightforward.\n",
        "Guess how high you might want to elevate the house, and then calculate the NPV for that action.\n"
      ],
      "id": "e3a101b6"
    },
    {
      "cell_type": "code",
      "metadata": {},
      "source": [
        "# already defined flood_dist, damage_fn, elevation_cost, house_area, and house_value. Just set Δh\n",
        "Δh = 0u\"ft\" # 0 elevation\n",
        "house_value = 221_600 # <4>\n",
        "house_area = 795u\"ft^2\" \n",
        "gauge_dist = GeneralizedExtremeValue(5, 1, 0.1) # hypothetical gauge distribution\n",
        "offset = 6.56168 # hypothetical height from house to gauge (building is 2 meters (6.56168 ft) above gauge)\n",
        "flood_dist = GeneralizedExtremeValue(gauge_dist.μ - offset, gauge_dist.σ, gauge_dist.ξ)\n",
        "\n",
        "benefit = single_year_cost_benefit(flood_dist, damage_fn, elevation_cost, house_area, house_value, Δh)\n",
        "println(\"Single Year Cost Benefit: \", benefit)\n",
        "# already defined flood_dist, damage_fn, elevation_cost, house_area, house_value. Just set T and discount rate\n",
        "T = 10 #assume looking at 10 year design window\n",
        "discount_rate = 0.05 #assume 5% like in example\n",
        "npv = npv_cost_benefit(flood_dist, damage_fn, elevation_cost, house_area, house_value, Δh, T, discount_rate)\n",
        "println(\"Net Present Value: \", npv)"
      ],
      "id": "ad7ac2c8",
      "execution_count": null,
      "outputs": []
    },
    {
      "cell_type": "markdown",
      "metadata": {},
      "source": [
        "Compare your elevation to zero feet, and explore a few other elevations. What do you notice?\n",
        "- Answered in discussion section\n",
        "\n",
        "# Sensitivity test\n",
        "\n",
        "Now let's perform a simple sensitivity test.\n",
        "Let's assume that the discount rate is uncertain, as we explored in class.\n",
        "Use a Monte Carlo approach to estimate the expected NPV for a range of discount rates.\n",
        "As an example, you could use `Normal(4, 2)`, which has a mean of 4 and a standard deviation of 2.\n"
      ],
      "id": "ae1b38fc"
    },
    {
      "cell_type": "code",
      "metadata": {},
      "source": [
        "# Define the range of discount rates\n",
        "μ = 4 # Mean\n",
        "σ = 2 # Standard deviation\n",
        "discount_distribution = Normal(μ, σ)\n",
        "\n",
        "# Number of discount rate samples: I chose 100 as > 1000 took too long to computationally compute\n",
        "number_samples = 100\n",
        "\n",
        "# Sample discount rates\n",
        "discount_rates = rand(discount_distribution, number_samples)\n",
        "\n",
        "# Calculate NPV for each discount rate sample\n",
        "npvs = [npv_cost_benefit(flood_dist, damage_fn, elevation_cost, house_area, house_value, Δh, T, discount_rate) for discount_rate in discount_rates]\n",
        "\n",
        "# Calculate the expected NPV\n",
        "expected_npv = mean(npvs)\n",
        "\n",
        "# Print the expected NPV\n",
        "println(\"Expected NPV: \", expected_npv)"
      ],
      "id": "15dc1b2e",
      "execution_count": null,
      "outputs": []
    },
    {
      "cell_type": "markdown",
      "metadata": {},
      "source": [
        "# Discussion\n",
        "\n",
        "1. What do you notice about the NPV for different actions?\n",
        "    - Sample of NPVs for different actions (i.e., how high we elevate the house)\n",
        "    - Δh = 0 ft\n",
        "        - Single Year Cost Benefit: -2235.8849963730363\n",
        "        - Net Present Value: -17346.862410716803\n",
        "    - Δh = 5 ft\n",
        "        - Single Year Cost Benefit: -88553.95168345135\n",
        "        - Net Present Value: -99479.35778305226\n",
        "    - Δh = 10 ft\n",
        "        - Single Year Cost Benefit: -97497.8065540435\n",
        "        - Net Present Value: -108091.47011746021\n",
        "    - Δh = 14 ft (the maximum allowed by data)\n",
        "        -Single Year Cost Benefit: -113446.010210639\n",
        "        - Net Present Value: -123165.26126022344\n",
        "    - A negative NPV means that the project is unprofitable. Thus, we can see that elevating this structure would not be profitable. This may be because the structure is located right along the coastline. Then, even without elevating, the structure is vulnerable to flood damages and storm surges. \n",
        "2. What do you notice about the sensitivity test?\n",
        "    - I saw that the code too particularly long when I used greater than 100 samples. This could be a sign that this test is computationally intensive for large samples. \n",
        "    - Potential Values for Δh = 0 ft: -679, -8354, -1.53, -948, -2.29\n",
        "    - Like the NPVs calculated above, the NPVs calculated in the sensitivity analysis are also negative (unprofitable).\n",
        "    - Provides insights into the robustness and variability of the project's NPV under different scenarios (e.g., discount rates). Here's what it tells you:\n",
        "    - Monte Carlo sensitivity analysis helps assess the impact of uncertainty in input parameters on NPV. By randomly sampling from probability distributions assigned to key parameters such as cash flows, discount rates, it generates a wide range of possible outcomes, allowing us to quantify the variability and risk associated with NPV estimates.\n",
        "    - Through Monte Carlo simulation, we obtain a probability distribution of NPV rather than a single point estimate, which reflects the range of potential NPV values and their respective probabilities of occurrence, providing a more comprehensive understanding of the project.\n",
        "    - Monte Carlo sensitivity analysis helps identify which input parameters have the most significant influence on NPV variability, allowing us to explore various scenarios by adjusting input parameters within their specified ranges or distributions. \n",
        "\n",
        "3. What are some limitations of this analysis?\n",
        "    - What things are missing from this analysis that you think are important\n",
        "    How might they affect the results?\n",
        "        - While the sensitivity analysis provides insights into the variability of NPV due to changes in discount rates, it may not capture all sources of uncertainty. Other factors such as changes in flood patterns, property value appreciation, or policy changes could also impact NPV but are not considered in this analysis. \n",
        "            - Failure to capture all sources of uncertainty could lead to underestimation or overestimation of project risk. For example, if the analysis overlooks potential changes in flood patterns or regulatory requirements, it may underestimate the true variability of NPV and the probability of adverse outcomes.\n",
        "        - The analysis relies on several assumptions and simplifications, such as assuming a constant discount rate over the entire project horizon and using a single depth-damage function for flood damages. These assumptions may not fully capture the complexity and variability of real-world scenarios, leading to potential inaccuracies in NPV estimates. \n",
        "            - Unrealistic assumptions or simplifications may distort NPV estimates and decision-making. For example, if the analysis assumes a constant discount rate but discount rates are expected to fluctuate over time, the NPV estimates may not accurately reflect the time value of money, leading to suboptimal investment decisions.\n",
        "        - The analysis focuses solely on the financial aspects of the project and does not consider non-financial factors such as social or environmental impacts. For example, elevating the house may provide benefits beyond monetary gains, like increased resilience to climate change or improved community well-being. \n",
        "            - For example, if the analysis focuses solely on financial metrics without considering social or environmental impacts, it may overlook important benefits or costs associated with the project, leading to incomplete evaluations of project viability.\n",
        "        - The accuracy of the analysis depends on the quality and availability of data used to estimate parameters such as flood distributions, depth-damage functions, and elevation costs. Uncertainty or inaccuracies in these data could affect the reliability of NPV estimates. \n",
        "            - Inaccurate or incomplete data can introduce uncertainty and bias into the analysis. For instance, if the depth-damage function used to estimate flood damages is based on outdated or unreliable data, the resulting NPV estimates may be unreliable and not reflective of actual risks and costs.\n",
        "        - Risk factors can change over time, and the analysis does not account for potential changes in risk profiles or discount rates during the project lifespan.  \n",
        "            - Failure to account for changes in risk profiles over time can lead to misaligned risk management strategies and suboptimal project outcomes. For example, if the analysis assumes static risk factors but risks evolve or intensify over the project lifespan, the chosen risk mitigation measures may be inadequate or ineffective, resulting in unexpected losses.\n",
        "\n",
        "    - What are some ways you might address these limitations?\n",
        "        - Comprehensive Risk Assessment: Conduct a thorough risk assessment to identify and quantify all relevant sources of uncertainty and risk factors affecting project NPV such as gathering additional data, consulting experts, and considering a wider range of scenarios.\n",
        "        - Scenario Analysis: Expand the analysis to include scenario planning techniques that explore multiple possible futures and assess the resilience of the project under different scenarios. This can help decision-makers understand the range of potential outcomes and develop adaptive strategies to mitigate risks.\n",
        "        - Integration of Non-Financial Factors: Incorporate non-financial considerations, such as social, environmental, and regulatory factors, into the analysis to provide a more holistic evaluation of project impacts and risks."
      ],
      "id": "078ca410"
    }
  ],
  "metadata": {
    "kernelspec": {
      "name": "julia-1.10",
      "language": "julia",
      "display_name": "Julia 1.10.0"
    }
  },
  "nbformat": 4,
  "nbformat_minor": 5
}